{
 "cells": [
  {
   "cell_type": "markdown",
   "metadata": {},
   "source": [
    "# Görev 4"
   ]
  },
  {
   "cell_type": "code",
   "execution_count": 18,
   "metadata": {},
   "outputs": [
    {
     "data": {
      "text/plain": [
       "dict_keys(['Cristian', 'Daisy', 'Antonio', 'Dante'])"
      ]
     },
     "execution_count": 18,
     "metadata": {},
     "output_type": "execute_result"
    }
   ],
   "source": [
    "dict = {'Cristian': [\"America\", 18],\n",
    "       'Daisy': [\"England\",12],\n",
    "        'Antonio': [\"Spain\",22],\n",
    "       'Dante': [\"Italy\",22]\n",
    "       }\n",
    "\n",
    "\n",
    "dict.keys()"
   ]
  },
  {
   "cell_type": "code",
   "execution_count": 19,
   "metadata": {},
   "outputs": [
    {
     "data": {
      "text/plain": [
       "dict_values([['America', 18], ['England', 12], ['Spain', 22], ['Italy', 22]])"
      ]
     },
     "execution_count": 19,
     "metadata": {},
     "output_type": "execute_result"
    }
   ],
   "source": [
    "dict.values()"
   ]
  },
  {
   "cell_type": "code",
   "execution_count": 20,
   "metadata": {},
   "outputs": [
    {
     "data": {
      "text/plain": [
       "{'Cristian': ['America', 18],\n",
       " 'Daisy': ['England', 13],\n",
       " 'Antonio': ['Spain', 22],\n",
       " 'Dante': ['Italy', 22]}"
      ]
     },
     "execution_count": 20,
     "metadata": {},
     "output_type": "execute_result"
    }
   ],
   "source": [
    "dict[\"Daisy\"][1] = 13\n",
    "dict"
   ]
  },
  {
   "cell_type": "code",
   "execution_count": 21,
   "metadata": {},
   "outputs": [
    {
     "data": {
      "text/plain": [
       "{'Cristian': ['America', 18],\n",
       " 'Daisy': ['England', 13],\n",
       " 'Antonio': ['Spain', 22],\n",
       " 'Dante': ['Italy', 22],\n",
       " 'Ahmet': ['Turkey', 24]}"
      ]
     },
     "execution_count": 21,
     "metadata": {},
     "output_type": "execute_result"
    }
   ],
   "source": [
    "dict[\"Ahmet\"] = [\"Turkey\",24]\n",
    "dict"
   ]
  },
  {
   "cell_type": "code",
   "execution_count": 22,
   "metadata": {},
   "outputs": [
    {
     "data": {
      "text/plain": [
       "{'Cristian': ['America', 18],\n",
       " 'Daisy': ['England', 13],\n",
       " 'Dante': ['Italy', 22],\n",
       " 'Ahmet': ['Turkey', 24]}"
      ]
     },
     "execution_count": 22,
     "metadata": {},
     "output_type": "execute_result"
    }
   ],
   "source": [
    "dict.pop(\"Antonio\")\n",
    "dict"
   ]
  },
  {
   "cell_type": "code",
   "execution_count": null,
   "metadata": {},
   "outputs": [],
   "source": []
  },
  {
   "cell_type": "markdown",
   "metadata": {},
   "source": [
    "# Görev 5 \n",
    "Argüman olarak bir liste alan, listenin içerisindeki tek ve çift sayıları ayrı listelere atayan ve bulisteleri return eden fonksiyon yazınız."
   ]
  },
  {
   "cell_type": "code",
   "execution_count": 36,
   "metadata": {},
   "outputs": [],
   "source": [
    "l = [2,13,18,93,22]\n",
    "tek = []\n",
    "cift = []\n",
    "\n",
    "def fonk(l):\n",
    "    for eleman in l:\n",
    "        if eleman % 2 == 0:\n",
    "            cift.append(eleman)\n",
    "        else:\n",
    "            tek.append(eleman)\n",
    "    print(tek)\n",
    "    print(cift)"
   ]
  },
  {
   "cell_type": "code",
   "execution_count": 37,
   "metadata": {},
   "outputs": [
    {
     "name": "stdout",
     "output_type": "stream",
     "text": [
      "[13, 93]\n",
      "[2, 18, 22]\n"
     ]
    }
   ],
   "source": [
    "fonk(l)"
   ]
  },
  {
   "cell_type": "code",
   "execution_count": null,
   "metadata": {},
   "outputs": [],
   "source": []
  },
  {
   "cell_type": "markdown",
   "metadata": {},
   "source": [
    "# Görev 6\n",
    " Aşağıda verilen listede mühendislik ve tıp fakültelerinde\n",
    "dereceye giren öğrencilerin isimleri bulunmaktadır.\n",
    " Sırasıyla ilk üç öğrenci mühendislik fakültesinin başarı sırasını temsil ederken\n",
    " son üç öğrenci de tıp fakültesi öğrenci sırasına aittir.\n",
    " Enumarate kullanarak öğrenci derecelerini fakülte özelinde yazdırınız."
   ]
  },
  {
   "cell_type": "code",
   "execution_count": 1,
   "metadata": {},
   "outputs": [
    {
     "name": "stdout",
     "output_type": "stream",
     "text": [
      "Mühendislik Fakültesi 1  . öğrenci: Ali\n",
      "Mühendislik Fakültesi 2  . öğrenci: Veli\n",
      "Mühendislik Fakültesi 3  . öğrenci: Ayşe\n",
      "Tıp Fakültesi 5 . öğrenci: Talat\n",
      "Tıp Fakültesi 6 . öğrenci: Zeynep\n",
      "Tıp Fakültesi 7 . öğrenci: Ece\n"
     ]
    }
   ],
   "source": [
    "\n",
    "ogrenciler = [\"Ali\", \"Veli\", \"Ayşe\", \"Talat\", \"Zeynep\", \"Ece\"]\n",
    "\n",
    "for i, ogrenci in enumerate(ogrenciler):\n",
    "    if i<3:\n",
    "        i += 1\n",
    "        print(\"Mühendislik Fakültesi\",i,\" . öğrenci:\", ogrenci)\n",
    "    else:\n",
    "        i += 2\n",
    "        print(\"Tıp Fakültesi\",i, \". öğrenci:\", ogrenci)\n",
    "\n",
    "\n"
   ]
  },
  {
   "cell_type": "code",
   "execution_count": null,
   "metadata": {},
   "outputs": [],
   "source": []
  },
  {
   "cell_type": "markdown",
   "metadata": {},
   "source": [
    "# Görev 7\n",
    "Aşağıda 3 adet liste verilmiştir. Listeler desırası ile bir dersin kodu, kredisi ve kontenjan bilgileri yer almaktadır. Zip kullanarak ders bilgilerini bastırınız.\n"
   ]
  },
  {
   "cell_type": "code",
   "execution_count": 41,
   "metadata": {},
   "outputs": [
    {
     "name": "stdout",
     "output_type": "stream",
     "text": [
      "Kredisi 3, kontenjanı 35 olan ders adır.\n",
      "Kredisi 4, kontenjanı 34 olan ders bdır.\n",
      "Kredisi 2, kontenjanı 26 olan ders cdır.\n",
      "Kredisi 4, kontenjanı 86 olan ders ddır.\n"
     ]
    }
   ],
   "source": [
    "ders = [\"a\", \"b\", \"c\", \"d\"]\n",
    "kredi = [3, 4, 2, 4]\n",
    "kontenjan = [35, 34, 26, 86]\n",
    "\n",
    "ders_bilgileri = zip(ders, kredi, kontenjan)\n",
    "\n",
    "for bilgi in ders_bilgileri:\n",
    "    print(\"Kredisi {}, kontenjanı {} olan ders {}dır.\".format(bilgi[1], bilgi[2], bilgi[0]))\n"
   ]
  },
  {
   "cell_type": "code",
   "execution_count": null,
   "metadata": {},
   "outputs": [],
   "source": []
  },
  {
   "cell_type": "markdown",
   "metadata": {},
   "source": [
    "# Görev 8\n",
    "Aşağıda2 adetset verilmiştir. Sizdenistenileneğer1. küme2. kümeyikapsiyoriseortakelemanlarınıeğerkapsamıyorise2. kümenin1. kümedenfarkınıyazdıracakfonksiyonutanımlamanızbeklenmektedir"
   ]
  },
  {
   "cell_type": "code",
   "execution_count": 49,
   "metadata": {},
   "outputs": [
    {
     "data": {
      "text/plain": [
       "{'function', 'lambda', 'miuul', 'qcut'}"
      ]
     },
     "execution_count": 49,
     "metadata": {},
     "output_type": "execute_result"
    }
   ],
   "source": [
    "küme1 = set([\"data\",\"python\"])\n",
    "küme2 = set([\"data\",\"function\",\"qcut\",\"lambda\",\"python\",\"miuul\"])\n",
    "\n",
    "def fonk1(k1,k2):\n",
    "    if k1.issuperset(k2):\n",
    "        return k1.intersection(k2)\n",
    "    else:\n",
    "        return k2.difference(k1)\n",
    "\n",
    "fonk1(küme1,küme2)\n"
   ]
  },
  {
   "cell_type": "code",
   "execution_count": null,
   "metadata": {},
   "outputs": [],
   "source": []
  }
 ],
 "metadata": {
  "kernelspec": {
   "display_name": "Python 3",
   "language": "python",
   "name": "python3"
  },
  "language_info": {
   "codemirror_mode": {
    "name": "ipython",
    "version": 3
   },
   "file_extension": ".py",
   "mimetype": "text/x-python",
   "name": "python",
   "nbconvert_exporter": "python",
   "pygments_lexer": "ipython3",
   "version": "3.8.3"
  }
 },
 "nbformat": 4,
 "nbformat_minor": 4
}
