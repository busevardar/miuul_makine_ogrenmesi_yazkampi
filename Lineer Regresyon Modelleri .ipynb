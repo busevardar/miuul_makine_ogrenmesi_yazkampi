{
 "cells": [
  {
   "cell_type": "markdown",
   "metadata": {},
   "source": [
    "## Basit Lineer Regresyon Modeli\n"
   ]
  },
  {
   "cell_type": "code",
   "execution_count": 4,
   "metadata": {},
   "outputs": [],
   "source": [
    "import numpy as np\n",
    "import pandas as pd\n",
    "import matplotlib.pyplot as plt\n",
    "import seaborn as sns\n",
    "\n",
    "pd.set_option('display.float_format', lambda x: '%.2f' % x)\n",
    "\n",
    "from sklearn.linear_model import LinearRegression\n",
    "from sklearn.metrics import mean_squared_error, mean_absolute_error\n",
    "from sklearn.model_selection import train_test_split, cross_val_score\n"
   ]
  },
  {
   "cell_type": "code",
   "execution_count": 5,
   "metadata": {},
   "outputs": [],
   "source": [
    "df = pd.read_csv(\"datasets/advertising.csv\")"
   ]
  },
  {
   "cell_type": "code",
   "execution_count": 6,
   "metadata": {},
   "outputs": [
    {
     "data": {
      "text/html": [
       "<div>\n",
       "<style scoped>\n",
       "    .dataframe tbody tr th:only-of-type {\n",
       "        vertical-align: middle;\n",
       "    }\n",
       "\n",
       "    .dataframe tbody tr th {\n",
       "        vertical-align: top;\n",
       "    }\n",
       "\n",
       "    .dataframe thead th {\n",
       "        text-align: right;\n",
       "    }\n",
       "</style>\n",
       "<table border=\"1\" class=\"dataframe\">\n",
       "  <thead>\n",
       "    <tr style=\"text-align: right;\">\n",
       "      <th></th>\n",
       "      <th>TV</th>\n",
       "      <th>radio</th>\n",
       "      <th>newspaper</th>\n",
       "      <th>sales</th>\n",
       "    </tr>\n",
       "  </thead>\n",
       "  <tbody>\n",
       "    <tr>\n",
       "      <th>0</th>\n",
       "      <td>230.10</td>\n",
       "      <td>37.80</td>\n",
       "      <td>69.20</td>\n",
       "      <td>22.10</td>\n",
       "    </tr>\n",
       "    <tr>\n",
       "      <th>1</th>\n",
       "      <td>44.50</td>\n",
       "      <td>39.30</td>\n",
       "      <td>45.10</td>\n",
       "      <td>10.40</td>\n",
       "    </tr>\n",
       "    <tr>\n",
       "      <th>2</th>\n",
       "      <td>17.20</td>\n",
       "      <td>45.90</td>\n",
       "      <td>69.30</td>\n",
       "      <td>9.30</td>\n",
       "    </tr>\n",
       "    <tr>\n",
       "      <th>3</th>\n",
       "      <td>151.50</td>\n",
       "      <td>41.30</td>\n",
       "      <td>58.50</td>\n",
       "      <td>18.50</td>\n",
       "    </tr>\n",
       "    <tr>\n",
       "      <th>4</th>\n",
       "      <td>180.80</td>\n",
       "      <td>10.80</td>\n",
       "      <td>58.40</td>\n",
       "      <td>12.90</td>\n",
       "    </tr>\n",
       "    <tr>\n",
       "      <th>...</th>\n",
       "      <td>...</td>\n",
       "      <td>...</td>\n",
       "      <td>...</td>\n",
       "      <td>...</td>\n",
       "    </tr>\n",
       "    <tr>\n",
       "      <th>195</th>\n",
       "      <td>38.20</td>\n",
       "      <td>3.70</td>\n",
       "      <td>13.80</td>\n",
       "      <td>7.60</td>\n",
       "    </tr>\n",
       "    <tr>\n",
       "      <th>196</th>\n",
       "      <td>94.20</td>\n",
       "      <td>4.90</td>\n",
       "      <td>8.10</td>\n",
       "      <td>9.70</td>\n",
       "    </tr>\n",
       "    <tr>\n",
       "      <th>197</th>\n",
       "      <td>177.00</td>\n",
       "      <td>9.30</td>\n",
       "      <td>6.40</td>\n",
       "      <td>12.80</td>\n",
       "    </tr>\n",
       "    <tr>\n",
       "      <th>198</th>\n",
       "      <td>283.60</td>\n",
       "      <td>42.00</td>\n",
       "      <td>66.20</td>\n",
       "      <td>25.50</td>\n",
       "    </tr>\n",
       "    <tr>\n",
       "      <th>199</th>\n",
       "      <td>232.10</td>\n",
       "      <td>8.60</td>\n",
       "      <td>8.70</td>\n",
       "      <td>13.40</td>\n",
       "    </tr>\n",
       "  </tbody>\n",
       "</table>\n",
       "<p>200 rows × 4 columns</p>\n",
       "</div>"
      ],
      "text/plain": [
       "        TV  radio  newspaper  sales\n",
       "0   230.10  37.80      69.20  22.10\n",
       "1    44.50  39.30      45.10  10.40\n",
       "2    17.20  45.90      69.30   9.30\n",
       "3   151.50  41.30      58.50  18.50\n",
       "4   180.80  10.80      58.40  12.90\n",
       "..     ...    ...        ...    ...\n",
       "195  38.20   3.70      13.80   7.60\n",
       "196  94.20   4.90       8.10   9.70\n",
       "197 177.00   9.30       6.40  12.80\n",
       "198 283.60  42.00      66.20  25.50\n",
       "199 232.10   8.60       8.70  13.40\n",
       "\n",
       "[200 rows x 4 columns]"
      ]
     },
     "execution_count": 6,
     "metadata": {},
     "output_type": "execute_result"
    }
   ],
   "source": [
    "df"
   ]
  },
  {
   "cell_type": "code",
   "execution_count": 7,
   "metadata": {},
   "outputs": [],
   "source": [
    "x = df[[\"TV\"]]\n",
    "y = df[[\"sales\"]]\n",
    "# bu iki değişken arasındaki doğrusal ilişkiyi modelleyeceğiz."
   ]
  },
  {
   "cell_type": "code",
   "execution_count": 8,
   "metadata": {},
   "outputs": [],
   "source": [
    "###############################33\n",
    "# MODEL\n",
    "#################################"
   ]
  },
  {
   "cell_type": "code",
   "execution_count": 9,
   "metadata": {},
   "outputs": [],
   "source": [
    "reg_model = LinearRegression().fit(x,y)"
   ]
  },
  {
   "cell_type": "code",
   "execution_count": 13,
   "metadata": {},
   "outputs": [
    {
     "data": {
      "text/plain": [
       "7.032593549127693"
      ]
     },
     "execution_count": 13,
     "metadata": {},
     "output_type": "execute_result"
    }
   ],
   "source": [
    "# y_hat = b + w * TV\n",
    "# sabit (b , bias)\n",
    "reg_model.intercept_[0]"
   ]
  },
  {
   "cell_type": "code",
   "execution_count": 11,
   "metadata": {},
   "outputs": [
    {
     "data": {
      "text/plain": [
       "0.047536640433019764"
      ]
     },
     "execution_count": 11,
     "metadata": {},
     "output_type": "execute_result"
    }
   ],
   "source": [
    "# tv'nin katsayısı(w1)\n",
    "reg_model.coef_[0][0]"
   ]
  },
  {
   "cell_type": "code",
   "execution_count": 14,
   "metadata": {},
   "outputs": [],
   "source": [
    "############################\n",
    "# TAHMİN\n",
    "############################"
   ]
  },
  {
   "cell_type": "code",
   "execution_count": 15,
   "metadata": {},
   "outputs": [
    {
     "data": {
      "text/plain": [
       "14.163089614080658"
      ]
     },
     "execution_count": 15,
     "metadata": {},
     "output_type": "execute_result"
    }
   ],
   "source": [
    "# 150 br.lik TV harcaması olsa ne kadar satış olması beklenir?\n",
    "reg_model.intercept_[0] + reg_model.coef_[0][0] * 150"
   ]
  },
  {
   "cell_type": "code",
   "execution_count": 16,
   "metadata": {},
   "outputs": [
    {
     "data": {
      "text/plain": [
       "30.800913765637574"
      ]
     },
     "execution_count": 16,
     "metadata": {},
     "output_type": "execute_result"
    }
   ],
   "source": [
    "# 500 brlik tv harcaması olsa satış ne kadar olur?\n",
    "reg_model.intercept_[0] + reg_model.coef_[0][0] * 500"
   ]
  },
  {
   "cell_type": "code",
   "execution_count": 17,
   "metadata": {},
   "outputs": [
    {
     "data": {
      "text/html": [
       "<div>\n",
       "<style scoped>\n",
       "    .dataframe tbody tr th:only-of-type {\n",
       "        vertical-align: middle;\n",
       "    }\n",
       "\n",
       "    .dataframe tbody tr th {\n",
       "        vertical-align: top;\n",
       "    }\n",
       "\n",
       "    .dataframe thead th {\n",
       "        text-align: right;\n",
       "    }\n",
       "</style>\n",
       "<table border=\"1\" class=\"dataframe\">\n",
       "  <thead>\n",
       "    <tr style=\"text-align: right;\">\n",
       "      <th></th>\n",
       "      <th>count</th>\n",
       "      <th>mean</th>\n",
       "      <th>std</th>\n",
       "      <th>min</th>\n",
       "      <th>25%</th>\n",
       "      <th>50%</th>\n",
       "      <th>75%</th>\n",
       "      <th>max</th>\n",
       "    </tr>\n",
       "  </thead>\n",
       "  <tbody>\n",
       "    <tr>\n",
       "      <th>TV</th>\n",
       "      <td>200.00</td>\n",
       "      <td>147.04</td>\n",
       "      <td>85.85</td>\n",
       "      <td>0.70</td>\n",
       "      <td>74.38</td>\n",
       "      <td>149.75</td>\n",
       "      <td>218.82</td>\n",
       "      <td>296.40</td>\n",
       "    </tr>\n",
       "    <tr>\n",
       "      <th>radio</th>\n",
       "      <td>200.00</td>\n",
       "      <td>23.26</td>\n",
       "      <td>14.85</td>\n",
       "      <td>0.00</td>\n",
       "      <td>9.97</td>\n",
       "      <td>22.90</td>\n",
       "      <td>36.52</td>\n",
       "      <td>49.60</td>\n",
       "    </tr>\n",
       "    <tr>\n",
       "      <th>newspaper</th>\n",
       "      <td>200.00</td>\n",
       "      <td>30.55</td>\n",
       "      <td>21.78</td>\n",
       "      <td>0.30</td>\n",
       "      <td>12.75</td>\n",
       "      <td>25.75</td>\n",
       "      <td>45.10</td>\n",
       "      <td>114.00</td>\n",
       "    </tr>\n",
       "    <tr>\n",
       "      <th>sales</th>\n",
       "      <td>200.00</td>\n",
       "      <td>14.02</td>\n",
       "      <td>5.22</td>\n",
       "      <td>1.60</td>\n",
       "      <td>10.38</td>\n",
       "      <td>12.90</td>\n",
       "      <td>17.40</td>\n",
       "      <td>27.00</td>\n",
       "    </tr>\n",
       "  </tbody>\n",
       "</table>\n",
       "</div>"
      ],
      "text/plain": [
       "           count   mean   std  min   25%    50%    75%    max\n",
       "TV        200.00 147.04 85.85 0.70 74.38 149.75 218.82 296.40\n",
       "radio     200.00  23.26 14.85 0.00  9.97  22.90  36.52  49.60\n",
       "newspaper 200.00  30.55 21.78 0.30 12.75  25.75  45.10 114.00\n",
       "sales     200.00  14.02  5.22 1.60 10.38  12.90  17.40  27.00"
      ]
     },
     "execution_count": 17,
     "metadata": {},
     "output_type": "execute_result"
    }
   ],
   "source": [
    "df.describe().T"
   ]
  },
  {
   "cell_type": "markdown",
   "metadata": {},
   "source": [
    "Görüldüğü gibi tv nin max değeri 296. Ancak biz 500 değerini verdiğimizde elimideki veride olmayan bir değer için bile tahmin üretebiliyoruz artık."
   ]
  },
  {
   "cell_type": "code",
   "execution_count": 18,
   "metadata": {},
   "outputs": [
    {
     "data": {
      "image/png": "[encoded data removed]",
      "text/plain": [
       "<Figure size 432x288 with 1 Axes>"
      ]
     },
     "metadata": {
      "needs_background": "light"
     },
     "output_type": "display_data"
    }
   ],
   "source": [
    "# Modelin Görselleştirilmesi\n",
    "g = sns.regplot(x = x, y = y, scatter_kws = {\"color\": \"b\", \"s\": 9},\n",
    "               ci = False, color = \"r\")\n",
    "g.set_title(f\"Model denklemi: Sales = {round(reg_model.intercept_[0],2)} + TV * {round(reg_model.coef_[0][0],2)}\")\n",
    "g.set_ylabel(\"Satış Sayısı\")\n",
    "g.set_xlabel(\"TV Harcamaları\")\n",
    "plt.xlim(-10, 310)\n",
    "plt.ylim(bottom = 0)\n",
    "plt.show()"
   ]
  },
  {
   "cell_type": "code",
   "execution_count": 19,
   "metadata": {},
   "outputs": [],
   "source": [
    "###########################\n",
    "# Tahmin Başarısı\n",
    "###########################"
   ]
  },
  {
   "cell_type": "code",
   "execution_count": 24,
   "metadata": {},
   "outputs": [
    {
     "data": {
      "text/plain": [
       "array([[17.97077451],\n",
       "       [ 9.14797405],\n",
       "       [ 7.85022376],\n",
       "       [14.23439457],\n",
       "       [15.62721814],\n",
       "       [ 7.44616232],\n",
       "       [ 9.76595037],\n",
       "       [12.74649773],\n",
       "       [ 7.44140866],\n",
       "       [16.53041431],\n",
       "       [10.17476548],\n",
       "       [17.23871025],\n",
       "       [ 8.16396559],\n",
       "       [11.66741599],\n",
       "       [16.73482186],\n",
       "       [16.32125309],\n",
       "       [10.25557777],\n",
       "       [20.40940417],\n",
       "       [10.32212907],\n",
       "       [14.03474068],\n",
       "       [17.41459582],\n",
       "       [18.31779199],\n",
       "       [ 7.6600772 ],\n",
       "       [17.88520856],\n",
       "       [ 9.99412625],\n",
       "       [19.52997632],\n",
       "       [13.82557947],\n",
       "       [18.44614092],\n",
       "       [18.85970969],\n",
       "       [10.38868036],\n",
       "       [20.95607553],\n",
       "       [12.39948025],\n",
       "       [11.653155  ],\n",
       "       [19.65832525],\n",
       "       [11.58185004],\n",
       "       [20.85149492],\n",
       "       [19.72012288],\n",
       "       [10.58358059],\n",
       "       [ 9.08142275],\n",
       "       [17.87094757],\n",
       "       [16.65876324],\n",
       "       [15.44657891],\n",
       "       [20.98935118],\n",
       "       [16.86792445],\n",
       "       [ 8.22576322],\n",
       "       [15.35625929],\n",
       "       [11.2966302 ],\n",
       "       [18.43663359],\n",
       "       [17.83291826],\n",
       "       [10.21279479],\n",
       "       [16.53041431],\n",
       "       [11.80527225],\n",
       "       [17.31952254],\n",
       "       [15.71278409],\n",
       "       [19.52046899],\n",
       "       [16.48763133],\n",
       "       [ 7.37961102],\n",
       "       [13.50708398],\n",
       "       [17.05331735],\n",
       "       [17.04856369],\n",
       "       [ 9.57580381],\n",
       "       [19.45391769],\n",
       "       [18.4081116 ],\n",
       "       [11.91460652],\n",
       "       [13.26464711],\n",
       "       [10.31262174],\n",
       "       [ 8.52999772],\n",
       "       [13.65444756],\n",
       "       [18.31779199],\n",
       "       [17.3385372 ],\n",
       "       [16.49713866],\n",
       "       [12.25211667],\n",
       "       [ 8.30657551],\n",
       "       [13.18383482],\n",
       "       [17.17691262],\n",
       "       [ 7.83596277],\n",
       "       [ 8.33985116],\n",
       "       [12.76075872],\n",
       "       [ 7.28929141],\n",
       "       [12.54684384],\n",
       "       [10.66439288],\n",
       "       [18.43187992],\n",
       "       [10.61210257],\n",
       "       [10.28409975],\n",
       "       [17.18166628],\n",
       "       [16.21667248],\n",
       "       [10.65963921],\n",
       "       [12.29489965],\n",
       "       [11.2300789 ],\n",
       "       [12.25211667],\n",
       "       [13.41676436],\n",
       "       [ 8.39214147],\n",
       "       [17.38132017],\n",
       "       [18.95953663],\n",
       "       [12.13802873],\n",
       "       [14.79532693],\n",
       "       [16.4258337 ],\n",
       "       [15.82211837],\n",
       "       [20.80395828],\n",
       "       [13.45954734],\n",
       "       [17.60474238],\n",
       "       [21.12245377],\n",
       "       [20.3523602 ],\n",
       "       [15.96472829],\n",
       "       [18.3558213 ],\n",
       "       [13.58789626],\n",
       "       [ 8.22100956],\n",
       "       [11.32990584],\n",
       "       [ 7.65532354],\n",
       "       [19.17345152],\n",
       "       [17.76636696],\n",
       "       [18.52219954],\n",
       "       [15.38478127],\n",
       "       [16.99627338],\n",
       "       [10.74995883],\n",
       "       [10.60259525],\n",
       "       [13.6496939 ],\n",
       "       [10.66439288],\n",
       "       [13.00794925],\n",
       "       [ 7.95480437],\n",
       "       [13.74952084],\n",
       "       [ 7.92628239],\n",
       "       [17.68080101],\n",
       "       [12.88435399],\n",
       "       [17.94225253],\n",
       "       [11.17778859],\n",
       "       [ 7.40337934],\n",
       "       [10.84503211],\n",
       "       [17.50491544],\n",
       "       [ 9.86577732],\n",
       "       [ 7.0658692 ],\n",
       "       [19.63931059],\n",
       "       [ 7.43190133],\n",
       "       [17.48114712],\n",
       "       [ 8.78669558],\n",
       "       [ 9.32861328],\n",
       "       [ 8.24953154],\n",
       "       [20.04337204],\n",
       "       [ 9.07666909],\n",
       "       [15.82211837],\n",
       "       [10.52178296],\n",
       "       [16.2404408 ],\n",
       "       [17.51442276],\n",
       "       [12.00492614],\n",
       "       [11.60561836],\n",
       "       [13.7019842 ],\n",
       "       [18.44614092],\n",
       "       [18.5935045 ],\n",
       "       [ 8.83898589],\n",
       "       [ 9.15748138],\n",
       "       [20.37612852],\n",
       "       [12.78452704],\n",
       "       [16.4258337 ],\n",
       "       [15.17562006],\n",
       "       [15.95997462],\n",
       "       [ 7.22749377],\n",
       "       [11.49628409],\n",
       "       [14.15358229],\n",
       "       [ 7.58877224],\n",
       "       [13.29316909],\n",
       "       [15.23266402],\n",
       "       [11.10648363],\n",
       "       [15.98849661],\n",
       "       [14.80483426],\n",
       "       [12.60388781],\n",
       "       [18.17993573],\n",
       "       [ 7.88349941],\n",
       "       [16.86317079],\n",
       "       [17.2719859 ],\n",
       "       [20.54726042],\n",
       "       [ 9.40942557],\n",
       "       [14.8523709 ],\n",
       "       [ 7.9643117 ],\n",
       "       [15.0377638 ],\n",
       "       [17.60474238],\n",
       "       [20.19548929],\n",
       "       [18.84069503],\n",
       "       [15.12332975],\n",
       "       [20.18598196],\n",
       "       [14.9046612 ],\n",
       "       [14.47683144],\n",
       "       [17.41934948],\n",
       "       [ 9.70415274],\n",
       "       [20.70413134],\n",
       "       [19.09739289],\n",
       "       [16.77760484],\n",
       "       [13.66395489],\n",
       "       [16.11684554],\n",
       "       [20.62807271],\n",
       "       [ 7.92152873],\n",
       "       [ 8.91029085],\n",
       "       [10.6216099 ],\n",
       "       [ 7.85022376],\n",
       "       [14.96170517],\n",
       "       [14.14882862],\n",
       "       [ 8.84849321],\n",
       "       [11.51054508],\n",
       "       [15.44657891],\n",
       "       [20.51398478],\n",
       "       [18.06584779]])"
      ]
     },
     "execution_count": 24,
     "metadata": {},
     "output_type": "execute_result"
    }
   ],
   "source": [
    "#tahmin edilen y'ler\n",
    "y_pred = reg_model.predict(x)\n",
    "y_pred"
   ]
  },
  {
   "cell_type": "code",
   "execution_count": 31,
   "metadata": {},
   "outputs": [
    {
     "data": {
      "text/plain": [
       "10.512652915656757"
      ]
     },
     "execution_count": 31,
     "metadata": {},
     "output_type": "execute_result"
    }
   ],
   "source": [
    "# MSE\n",
    "mean_squared_error(y, y_pred)"
   ]
  },
  {
   "cell_type": "code",
   "execution_count": 32,
   "metadata": {},
   "outputs": [
    {
     "data": {
      "text/plain": [
       "sales   14.02\n",
       "dtype: float64"
      ]
     },
     "execution_count": 32,
     "metadata": {},
     "output_type": "execute_result"
    }
   ],
   "source": [
    "y.mean()"
   ]
  },
  {
   "cell_type": "code",
   "execution_count": 33,
   "metadata": {},
   "outputs": [
    {
     "data": {
      "text/plain": [
       "sales   5.22\n",
       "dtype: float64"
      ]
     },
     "execution_count": 33,
     "metadata": {},
     "output_type": "execute_result"
    }
   ],
   "source": [
    "y.std()"
   ]
  },
  {
   "cell_type": "code",
   "execution_count": 34,
   "metadata": {},
   "outputs": [],
   "source": [
    "# Değerler 9 ve 19 arasında değişiyor gibi görünüyor. \n",
    "# O halde hata payımızın 10 olması biraz yüksek bi değer"
   ]
  },
  {
   "cell_type": "code",
   "execution_count": 35,
   "metadata": {},
   "outputs": [
    {
     "data": {
      "text/plain": [
       "3.2423221486546887"
      ]
     },
     "execution_count": 35,
     "metadata": {},
     "output_type": "execute_result"
    }
   ],
   "source": [
    "# RMSE\n",
    "np.sqrt(mean_squared_error(y,y_pred))"
   ]
  },
  {
   "cell_type": "code",
   "execution_count": 36,
   "metadata": {},
   "outputs": [
    {
     "data": {
      "text/plain": [
       "2.549806038927486"
      ]
     },
     "execution_count": 36,
     "metadata": {},
     "output_type": "execute_result"
    }
   ],
   "source": [
    "# MAE\n",
    "mean_absolute_error(y, y_pred)"
   ]
  },
  {
   "cell_type": "code",
   "execution_count": 37,
   "metadata": {},
   "outputs": [
    {
     "data": {
      "text/plain": [
       "0.611875050850071"
      ]
     },
     "execution_count": 37,
     "metadata": {},
     "output_type": "execute_result"
    }
   ],
   "source": [
    "# R^2 = Bağımsız değişkenlerin bağımlı değişkeni açıklama yüzdesidir.\n",
    "reg_model.score(x, y)"
   ]
  },
  {
   "cell_type": "markdown",
   "metadata": {},
   "source": [
    "## Çoklu Lineer Regresyon Modeli"
   ]
  },
  {
   "cell_type": "code",
   "execution_count": 38,
   "metadata": {},
   "outputs": [],
   "source": [
    "X = df.drop(\"sales\", axis = 1)\n",
    "y = df[[\"sales\"]]"
   ]
  },
  {
   "cell_type": "code",
   "execution_count": 39,
   "metadata": {},
   "outputs": [],
   "source": [
    "####################\n",
    "# MODEL\n",
    "####################"
   ]
  },
  {
   "cell_type": "code",
   "execution_count": 44,
   "metadata": {},
   "outputs": [
    {
     "data": {
      "text/plain": [
       "(40, 3)"
      ]
     },
     "execution_count": 44,
     "metadata": {},
     "output_type": "execute_result"
    }
   ],
   "source": [
    "X_train, X_test, y_train, y_test = train_test_split(X, y, test_size = 0.20, random_state = 1)\n",
    "\n",
    "\n",
    "X_test.shape\n"
   ]
  },
  {
   "cell_type": "code",
   "execution_count": 45,
   "metadata": {},
   "outputs": [
    {
     "data": {
      "text/plain": [
       "(160, 1)"
      ]
     },
     "execution_count": 45,
     "metadata": {},
     "output_type": "execute_result"
    }
   ],
   "source": [
    "y_train.shape"
   ]
  },
  {
   "cell_type": "code",
   "execution_count": 46,
   "metadata": {},
   "outputs": [],
   "source": [
    "#train setiyle model kurup test setiyle test edeceğiz."
   ]
  },
  {
   "cell_type": "code",
   "execution_count": 47,
   "metadata": {},
   "outputs": [
    {
     "data": {
      "text/plain": [
       "LinearRegression()"
      ]
     },
     "execution_count": 47,
     "metadata": {},
     "output_type": "execute_result"
    }
   ],
   "source": [
    "reg_model = LinearRegression()\n",
    "reg_model.fit(X_train, y_train)\n",
    "\n",
    "# ya da\n",
    "\n",
    "# reg_model = LinearRegression().fit(X_train, y_train)"
   ]
  },
  {
   "cell_type": "code",
   "execution_count": 48,
   "metadata": {},
   "outputs": [
    {
     "data": {
      "text/plain": [
       "array([2.90794702])"
      ]
     },
     "execution_count": 48,
     "metadata": {},
     "output_type": "execute_result"
    }
   ],
   "source": [
    "#sabit ( b, bias)\n",
    "reg_model.intercept_"
   ]
  },
  {
   "cell_type": "code",
   "execution_count": 49,
   "metadata": {},
   "outputs": [
    {
     "data": {
      "text/plain": [
       "array([[0.0468431 , 0.17854434, 0.00258619]])"
      ]
     },
     "execution_count": 49,
     "metadata": {},
     "output_type": "execute_result"
    }
   ],
   "source": [
    "# weightler\n",
    "reg_model.coef_"
   ]
  },
  {
   "cell_type": "code",
   "execution_count": 59,
   "metadata": {},
   "outputs": [],
   "source": [
    "# tv : 30, radio : 10 ,newspaper : 40\n",
    "\n"
   ]
  },
  {
   "cell_type": "code",
   "execution_count": 60,
   "metadata": {},
   "outputs": [
    {
     "data": {
      "text/plain": [
       "5.88"
      ]
     },
     "execution_count": 60,
     "metadata": {},
     "output_type": "execute_result"
    }
   ],
   "source": [
    "# sales = 2.90 + tv * 0.04 + radio * 0.17 + newspaper * 0.002\n",
    "\n",
    "2.90 + 30 * 0.04 + 10 * 0.17 + 40 * 0.002"
   ]
  },
  {
   "cell_type": "code",
   "execution_count": 61,
   "metadata": {},
   "outputs": [
    {
     "data": {
      "text/html": [
       "<div>\n",
       "<style scoped>\n",
       "    .dataframe tbody tr th:only-of-type {\n",
       "        vertical-align: middle;\n",
       "    }\n",
       "\n",
       "    .dataframe tbody tr th {\n",
       "        vertical-align: top;\n",
       "    }\n",
       "\n",
       "    .dataframe thead th {\n",
       "        text-align: right;\n",
       "    }\n",
       "</style>\n",
       "<table border=\"1\" class=\"dataframe\">\n",
       "  <thead>\n",
       "    <tr style=\"text-align: right;\">\n",
       "      <th></th>\n",
       "      <th>0</th>\n",
       "      <th>1</th>\n",
       "      <th>2</th>\n",
       "    </tr>\n",
       "  </thead>\n",
       "  <tbody>\n",
       "    <tr>\n",
       "      <th>0</th>\n",
       "      <td>30</td>\n",
       "      <td>10</td>\n",
       "      <td>40</td>\n",
       "    </tr>\n",
       "  </tbody>\n",
       "</table>\n",
       "</div>"
      ],
      "text/plain": [
       "    0   1   2\n",
       "0  30  10  40"
      ]
     },
     "execution_count": 61,
     "metadata": {},
     "output_type": "execute_result"
    }
   ],
   "source": [
    "yeni_veri = [[30],[10],[40]]\n",
    "yeni_veri = pd.DataFrame(yeni_veri).T\n",
    "yeni_veri"
   ]
  },
  {
   "cell_type": "code",
   "execution_count": 62,
   "metadata": {},
   "outputs": [
    {
     "data": {
      "text/plain": [
       "array([[6.202131]])"
      ]
     },
     "execution_count": 62,
     "metadata": {},
     "output_type": "execute_result"
    }
   ],
   "source": [
    "reg_model.predict(yeni_veri)"
   ]
  },
  {
   "cell_type": "code",
   "execution_count": 63,
   "metadata": {},
   "outputs": [],
   "source": [
    "####################################\n",
    "# Tahmin Başarısını Değerlendirme\n",
    "####################################"
   ]
  },
  {
   "cell_type": "code",
   "execution_count": 66,
   "metadata": {},
   "outputs": [
    {
     "data": {
      "text/plain": [
       "1.7369025901470923"
      ]
     },
     "execution_count": 66,
     "metadata": {},
     "output_type": "execute_result"
    }
   ],
   "source": [
    "# Train RMSE\n",
    "y_pred = reg_model.predict(X_train)\n",
    "np.sqrt(mean_squared_error(y_train, y_pred))"
   ]
  },
  {
   "cell_type": "code",
   "execution_count": 67,
   "metadata": {},
   "outputs": [
    {
     "data": {
      "text/plain": [
       "0.8959372632325174"
      ]
     },
     "execution_count": 67,
     "metadata": {},
     "output_type": "execute_result"
    }
   ],
   "source": [
    "# TRAIN RKARE\n",
    "reg_model.score(X_train, y_train)"
   ]
  },
  {
   "cell_type": "code",
   "execution_count": 68,
   "metadata": {},
   "outputs": [
    {
     "data": {
      "text/plain": [
       "1.4113417558581578"
      ]
     },
     "execution_count": 68,
     "metadata": {},
     "output_type": "execute_result"
    }
   ],
   "source": [
    "# Test RMSE \n",
    "y_pred = reg_model.predict(X_test)\n",
    "np.sqrt(mean_squared_error(y_test, y_pred))"
   ]
  },
  {
   "cell_type": "code",
   "execution_count": 69,
   "metadata": {},
   "outputs": [
    {
     "data": {
      "text/plain": [
       "0.8927605914615385"
      ]
     },
     "execution_count": 69,
     "metadata": {},
     "output_type": "execute_result"
    }
   ],
   "source": [
    "# TEST RKARE\n",
    "reg_model.score(X_test, y_test)"
   ]
  },
  {
   "cell_type": "code",
   "execution_count": 70,
   "metadata": {},
   "outputs": [
    {
     "data": {
      "text/plain": [
       "1.6913531708051792"
      ]
     },
     "execution_count": 70,
     "metadata": {},
     "output_type": "execute_result"
    }
   ],
   "source": [
    "# 10 KATLI CROSS VALIDATION\n",
    "np.mean(np.sqrt(-cross_val_score(reg_model,\n",
    "                                 X,\n",
    "                                 y,\n",
    "                                 cv = 10,\n",
    "                                 scoring = \"neg_mean_squared_error\")))\n"
   ]
  },
  {
   "cell_type": "code",
   "execution_count": null,
   "metadata": {},
   "outputs": [],
   "source": []
  }
 ],
 "metadata": {
  "kernelspec": {
   "display_name": "Python 3",
   "language": "python",
   "name": "python3"
  },
  "language_info": {
   "codemirror_mode": {
    "name": "ipython",
    "version": 3
   },
   "file_extension": ".py",
   "mimetype": "text/x-python",
   "name": "python",
   "nbconvert_exporter": "python",
   "pygments_lexer": "ipython3",
   "version": "3.8.3"
  }
 },
 "nbformat": 4,
 "nbformat_minor": 4
}
